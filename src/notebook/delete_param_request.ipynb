{
 "cells": [
  {
   "cell_type": "code",
   "execution_count": 1,
   "metadata": {},
   "outputs": [],
   "source": [
    "from typing import Dict\n",
    "\n",
    "def format_entities_for_prompt(entities: Dict[str, str]) -> str:\n",
    "    \"\"\"\n",
    "    Converts a dictionary of entities into a formatted string representation.\n",
    "    \n",
    "    Args:\n",
    "        entities: Dictionary containing entity key-value pairs\n",
    "        \n",
    "    Returns:\n",
    "        Formatted string with entities listed in bullet points\n",
    "    \"\"\"\n",
    "    formatted_str = \"\"\n",
    "    for key, value in entities.items():\n",
    "        # Convert snake_case to Title Case\n",
    "        formatted_key = \" \".join(word.capitalize() for word in key.split('_'))\n",
    "        formatted_str += f\"        - {formatted_key}: '{value}'\\n\"\n",
    "    return formatted_str.rstrip()\n",
    "\n",
    "\n",
    "def get_user_prompt(message: str) -> str:\n",
    "    \n",
    "    \n",
    "    user_prompt = f\"\"\"\n",
    "    User's message: \"{message}\"\n",
    "    \n",
    "    # General conversation guidelines:\n",
    "    - Please detect the pattern of user's query if it does not contain any removal request such \"no user please\", \"delete product detail please\" so on. Otherwise, default as a empty list {{\"params2delete\": []}}.\n",
    "    - Please help me identify which parameters you want to remove from your query. This is all of the parameters: \"from_date\", \"to_date\", \"product\", \"product_detail\", \"level\", \"user\", \"N/A\"\n",
    "    - Return your answer in JSON format with a single key \"params2delete\"\n",
    "\n",
    "    # ***Example Scenarios:***\n",
    "    \n",
    "    - ***User***: \"No username please\"\n",
    "    - ***Assistant***: {{\"params2delete\": [\"username\"]}}\n",
    "    \n",
    "    - ***User***: \"I want to winlost report, no username and level please\"\n",
    "    - ***Assistant***: {{\"params2delete\": [\"username\", \"level\"]}}\n",
    "\n",
    "    - ***User***: \"Remove the date range\"\n",
    "    - ***Assistant***: {{\"params2delete\": [\"from_date\", \"to_date\"]}}\n",
    "\n",
    "    - ***User***: \"Don't include product\"\n",
    "    - ***Assistant***: {{\"params2delete\": [\"product\"]}}\n",
    "    \n",
    "    - ***User***: \"I want to delete top\"\n",
    "    - ***Assistant***: {{\"params2delete\": [\"top\"]}}\n",
    "    \n",
    "    - ***User***: \"Please default from_date\"\n",
    "    - ***Assistant***: {{\"params2delete\": [\"from_date\"]}}\n",
    "    \n",
    "    - ***User***: \"I want to get winlost report for Sportsbook only\"\n",
    "    - ***Assistant***: {{\"params2delete\": []}}\n",
    "    \n",
    "    - ***User***: \"Please roll back the product to default\"\n",
    "    - ***Assistant***: {{\"params2delete\": [\"product\"]}}\n",
    "    \"\"\"\n",
    "    return user_prompt"
   ]
  },
  {
   "cell_type": "code",
   "execution_count": 2,
   "metadata": {},
   "outputs": [],
   "source": [
    "import requests\n",
    "import json\n",
    "\n",
    "def delete_param_request(query: str) -> str:\n",
    "    # API endpoint\n",
    "    url = \"https://ollama.selab.edu.vn/api/chat\"\n",
    "\n",
    "    # Construct the prompt for function determination with examples\n",
    "    user_prompt = get_user_prompt(query)\n",
    "    system_prompt = \"You are a helpful assistant that identifies which parameters you want to remove from user's query.\"\n",
    "    \n",
    "    format_schema =  {\n",
    "        \"type\": \"object\",\n",
    "        \"properties\": {\n",
    "            \"params2delete\": {\n",
    "                \"type\": \"array\",\n",
    "                \"items\": {\n",
    "                    \"type\": \"string\",\n",
    "                    \"enum\": [\n",
    "                        \"from_date\",\n",
    "                        \"to_date\",\n",
    "                        \"product\",  \n",
    "                        \"product_detail\",\n",
    "                        \"level\",\n",
    "                        \"user\",\n",
    "                        \"top\"\n",
    "                    ]\n",
    "                }\n",
    "            }\n",
    "        },\n",
    "        \"required\": [\"params2delete\"]\n",
    "    }\n",
    "\n",
    "    model = 'qwen2.5:14b'\n",
    "    \n",
    "    messages = [\n",
    "        {\"role\": \"system\", \"content\": system_prompt},\n",
    "        {\"role\": \"user\", \"content\": user_prompt}\n",
    "    ]\n",
    "\n",
    "    headers = {\"Content-Type\": \"application/json\"}\n",
    "\n",
    "    data = {\n",
    "        \"model\": model,\n",
    "        \"messages\": messages,\n",
    "        \"format\": format_schema,\n",
    "        \"stream\": False\n",
    "    }\n",
    "\n",
    "    response = requests.post(url, headers=headers, data=json.dumps(data))\n",
    "    return json.loads(response.json()['message']['content'])"
   ]
  },
  {
   "cell_type": "code",
   "execution_count": 19,
   "metadata": {},
   "outputs": [
    {
     "data": {
      "text/plain": [
       "{'params2delete': ['user', 'level']}"
      ]
     },
     "execution_count": 19,
     "metadata": {},
     "output_type": "execute_result"
    }
   ],
   "source": [
    "delete_param_request(\"I want to get winlost report for Sportsbook only, no username and level please\")"
   ]
  },
  {
   "cell_type": "code",
   "execution_count": 20,
   "metadata": {},
   "outputs": [
    {
     "data": {
      "text/plain": [
       "{'params2delete': ['from_date', 'to_date']}"
      ]
     },
     "execution_count": 20,
     "metadata": {},
     "output_type": "execute_result"
    }
   ],
   "source": [
    "delete_param_request(\"I want to delete that date range\")"
   ]
  },
  {
   "cell_type": "code",
   "execution_count": 21,
   "metadata": {},
   "outputs": [
    {
     "data": {
      "text/plain": [
       "{'params2delete': ['product']}"
      ]
     },
     "execution_count": 21,
     "metadata": {},
     "output_type": "execute_result"
    }
   ],
   "source": [
    "delete_param_request(\"Please roll back the product to default\")"
   ]
  },
  {
   "cell_type": "code",
   "execution_count": 22,
   "metadata": {},
   "outputs": [
    {
     "data": {
      "text/plain": [
       "{'params2delete': []}"
      ]
     },
     "execution_count": 22,
     "metadata": {},
     "output_type": "execute_result"
    }
   ],
   "source": [
    "delete_param_request(\"I want to get turnover report please\")"
   ]
  },
  {
   "cell_type": "code",
   "execution_count": 3,
   "metadata": {},
   "outputs": [
    {
     "data": {
      "text/plain": [
       "{'params2delete': ['level', 'user', 'top']}"
      ]
     },
     "execution_count": 3,
     "metadata": {},
     "output_type": "execute_result"
    }
   ],
   "source": [
    "delete_param_request(\"i want winlost report in Number Game only\")"
   ]
  },
  {
   "cell_type": "code",
   "execution_count": 4,
   "metadata": {},
   "outputs": [
    {
     "data": {
      "text/plain": [
       "{'params2delete': ['user']}"
      ]
     },
     "execution_count": 4,
     "metadata": {},
     "output_type": "execute_result"
    }
   ],
   "source": [
    "delete_param_request(\"No username please\")"
   ]
  },
  {
   "cell_type": "code",
   "execution_count": 5,
   "metadata": {},
   "outputs": [
    {
     "data": {
      "text/plain": [
       "{'params2delete': ['top']}"
      ]
     },
     "execution_count": 5,
     "metadata": {},
     "output_type": "execute_result"
    }
   ],
   "source": [
    "delete_param_request(\"Delete top rank\")"
   ]
  },
  {
   "cell_type": "code",
   "execution_count": 6,
   "metadata": {},
   "outputs": [
    {
     "data": {
      "text/plain": [
       "{'params2delete': ['product_detail']}"
      ]
     },
     "execution_count": 6,
     "metadata": {},
     "output_type": "execute_result"
    }
   ],
   "source": [
    "delete_param_request(\"Please remove the product detail\")"
   ]
  },
  {
   "cell_type": "code",
   "execution_count": 7,
   "metadata": {},
   "outputs": [
    {
     "data": {
      "text/plain": [
       "{'params2delete': ['level']}"
      ]
     },
     "execution_count": 7,
     "metadata": {},
     "output_type": "execute_result"
    }
   ],
   "source": [
    "delete_param_request(\"No level please\")"
   ]
  },
  {
   "cell_type": "code",
   "execution_count": 8,
   "metadata": {},
   "outputs": [
    {
     "data": {
      "text/plain": [
       "{'params2delete': ['user']}"
      ]
     },
     "execution_count": 8,
     "metadata": {},
     "output_type": "execute_result"
    }
   ],
   "source": [
    "delete_param_request(\"Destroy username please, I hate it\")"
   ]
  },
  {
   "cell_type": "code",
   "execution_count": 9,
   "metadata": {},
   "outputs": [
    {
     "data": {
      "text/plain": [
       "{'params2delete': ['product']}"
      ]
     },
     "execution_count": 9,
     "metadata": {},
     "output_type": "execute_result"
    }
   ],
   "source": [
    "delete_param_request(\"Wrong product\")"
   ]
  }
 ],
 "metadata": {
  "kernelspec": {
   "display_name": "langchain",
   "language": "python",
   "name": "python3"
  },
  "language_info": {
   "codemirror_mode": {
    "name": "ipython",
    "version": 3
   },
   "file_extension": ".py",
   "mimetype": "text/x-python",
   "name": "python",
   "nbconvert_exporter": "python",
   "pygments_lexer": "ipython3",
   "version": "3.11.11"
  }
 },
 "nbformat": 4,
 "nbformat_minor": 2
}

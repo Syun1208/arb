{
 "cells": [
  {
   "cell_type": "code",
   "execution_count": null,
   "metadata": {},
   "outputs": [],
   "source": [
    "import json\n",
    "\n",
    "def load_json_file(file_path: str) -> dict:\n",
    "    \"\"\"\n",
    "    Load and parse a JSON file\n",
    "    \n",
    "    Args:\n",
    "        file_path (str): Path to the JSON file\n",
    "        \n",
    "    Returns:\n",
    "        dict: Parsed JSON data as a dictionary\n",
    "    \"\"\"\n",
    "    try:\n",
    "        with open(file_path, 'r') as f:\n",
    "            return json.load(f)\n",
    "    except FileNotFoundError:\n",
    "        print(f\"Error: File {file_path} not found\")\n",
    "        return {}\n",
    "    except json.JSONDecodeError:\n",
    "        print(f\"Error: Invalid JSON format in {file_path}\")\n",
    "        return {}"
   ]
  },
  {
   "cell_type": "code",
   "execution_count": 7,
   "metadata": {},
   "outputs": [
    {
     "data": {
      "text/plain": [
       "{'is_action': False,\n",
       " 'endpoint': '/winlost_detail',\n",
       " 'params': {'from_date': '2025-04-10',\n",
       "  'to_date': '2025-04-10',\n",
       "  'product': 'All',\n",
       "  'product_detail': 'All',\n",
       "  'level': 'All',\n",
       "  'user': 'N/A'},\n",
       " 'current_time': '2025-04-25 15:49:37'}"
      ]
     },
     "execution_count": 7,
     "metadata": {},
     "output_type": "execute_result"
    }
   ],
   "source": [
    "t={\n",
    "    \"is_new_session\": False,\n",
    "    \"is_action\": False,\n",
    "    \"endpoint\": \"/winlost_detail\",\n",
    "    \"params\": {\n",
    "        \"from_date\": \"2025-04-10\",\n",
    "        \"to_date\": \"2025-04-10\",\n",
    "        \"product\": \"All\",\n",
    "        \"product_detail\": \"All\",\n",
    "        \"level\": \"All\",\n",
    "        \"user\": \"N/A\"\n",
    "    },\n",
    "    \"current_time\": \"2025-04-25 15:49:37\"\n",
    "}\n",
    "\n",
    "t.pop(\"is_new_session\")\n",
    "t"
   ]
  },
  {
   "cell_type": "code",
   "execution_count": 14,
   "metadata": {},
   "outputs": [],
   "source": [
    "import datetime\n",
    "\n",
    "current_datetime = datetime.datetime.now()\n",
    "expired_datetime = (current_datetime - datetime.datetime.strptime(t['current_time'], '%Y-%m-%d %H:%M:%S')).total_seconds() / 3600"
   ]
  },
  {
   "cell_type": "code",
   "execution_count": 15,
   "metadata": {},
   "outputs": [
    {
     "data": {
      "text/plain": [
       "65.41141857527778"
      ]
     },
     "execution_count": 15,
     "metadata": {},
     "output_type": "execute_result"
    }
   ],
   "source": [
    "expired_datetime"
   ]
  },
  {
   "cell_type": "code",
   "execution_count": 1,
   "metadata": {},
   "outputs": [],
   "source": [
    "import re\n",
    "\n",
    "def filter_top_pattern(text: str) -> bool:\n",
    "    \"\"\"\n",
    "    Filter text containing 'top' or 'Top' pattern using regex\n",
    "    \n",
    "    Args:\n",
    "        text (str): Input text to check\n",
    "        \n",
    "    Returns:\n",
    "        bool: True if pattern found, False otherwise\n",
    "    \"\"\"\n",
    "    pattern = r'[tT]op'\n",
    "    return bool(re.search(pattern, text))\n"
   ]
  },
  {
   "cell_type": "code",
   "execution_count": 2,
   "metadata": {},
   "outputs": [],
   "source": [
    "import requests\n",
    "import json\n",
    "\n",
    "def get_user_prompt(query: str) -> str:\n",
    "    prompt = \"\"\"\n",
    "        User request: {query}\n",
    "\n",
    "        # Example requests and responses:\n",
    "        \n",
    "        Input: \"I need to see the win/loss report from last week\"\n",
    "        Output: {{\n",
    "            \"function_called\": \"/get_winlost_report\"\n",
    "        }}\n",
    "\n",
    "        Input: \"I want to get the reward report\"\n",
    "        Output: {{\n",
    "            \"function_called\": \"/get_reward_report\"\n",
    "        }}\n",
    "\n",
    "        Input: \"I want to take bet count report for user 123\"\n",
    "        Output: {{\n",
    "            \"function_called\": \"/get_betcount_report\"\n",
    "        }}\n",
    "\n",
    "        Input: \"Get me the get gross commission report for March transactions\"\n",
    "        Output: {{\n",
    "            \"function_called\": \"/get_gross_comm_report\"\n",
    "        }}\n",
    "\n",
    "        Input: \"I want get performance of abc1 last week\"\n",
    "        Output: {{\n",
    "            \"function_called\": \"N/A\"\n",
    "        }}\n",
    "        \n",
    "        Input: \"Hello how are you today?\"\n",
    "        Output: {{\n",
    "            \"function_called\": \"N/A\"\n",
    "        }}\n",
    "        \n",
    "        Input: \"I want Sportsbook only\"\n",
    "        Output: {{\n",
    "            \"function_called\": \"N/A\"\n",
    "        }}\n",
    "        \n",
    "        Input: \"I want to get the top 20 outstanding\"\n",
    "        Output: {{\n",
    "            \"function_called\": \"/get_topoutstanding_report\"\n",
    "        }}\n",
    "        \n",
    "        Input: \"The outstanding of Master1\"\n",
    "        Output: {{\n",
    "            \"function_called\": \"/get_outstanding_report\"\n",
    "        }}\n",
    "        \n",
    "        Input: \"Top 40 Outstanding of Sportsbook\"\n",
    "        Output: {{\n",
    "            \"function_called\": \"/get_topoutstanding_report\"\n",
    "        }}\n",
    "        \n",
    "        Input: \"My current outstanding\"\n",
    "        Output: {{\n",
    "            \"function_called\": \"/get_outstanding_report\"\n",
    "        }}\n",
    "        \n",
    "        Input: \"Top 10 Outstanding of Sportsbook\"\n",
    "        Output: {{\n",
    "            \"function_called\": \"/get_topoutstanding_report\"\n",
    "        }}\n",
    "        \n",
    "        Based on this request, which function should be called? Return only the JSON response.\n",
    "    \"\"\".format(query=query)\n",
    "    \n",
    "    return prompt\n",
    "\n",
    "\n",
    "def functional_calling(query: str) -> str:\n",
    "    # API endpoint\n",
    "    url = \"http://10.5.10.110:8090/api/chat\"\n",
    "    \n",
    "    # Construct the system prompt using function metadata\n",
    "    system_prompt = \"\"\"\n",
    "    You are an AI assistant that helps determine which function to call based on user input.\n",
    "    Available functions:\n",
    "        - /get_winlost_report: Get Win/Loss reports. Supports exporting reports (CSV/PDF), comparing trends across time periods, highlighting biggest winners/losers, and detecting unusual betting patterns. The Win Loss Report helps you easily track performance by showing either your own win/loss or your downline’s. Use it to review results and settle balances with your downline or upline efficiently.\n",
    "        - /get_betcount_report: Get turnover/revenue reports showing total betting volume/activity. Includes trend analysis and comparison features.\n",
    "        - /get_outstanding_report: The Outstanding Report helps you quickly track your current outstanding amount or the outstanding of a specific downline. You can also extract a list of top downlines with the highest outstanding for better monitoring and settlement planning.\n",
    "        - /get_topoutstanding_report: The Top Outstanding Report helps you quickly track the top downlines with the highest outstanding. You can also extract a list of top downlines with the highest outstanding for better monitoring and settlement planning.\n",
    "\n",
    "    Determine which function best matches the user's request and return it in JSON format like:\n",
    "    {\n",
    "        \"function_called\": \"/function_name\"\n",
    "    }\n",
    "    \"\"\"\n",
    "\n",
    "    # Construct the prompt for function determination with examples\n",
    "    user_prompt = get_user_prompt(query)\n",
    "\n",
    "    \n",
    "    format_schema =  {\n",
    "        \"type\": \"object\",\n",
    "        \"properties\": {\n",
    "            \"function_called\": {\n",
    "                \"type\": \"string\",\n",
    "                \"description\": \"The name of the function to call\",\n",
    "                \"enum\": [\n",
    "                    '/get_winlost_report',\n",
    "                    '/get_turnover_report',\n",
    "                    '/get_outstanding_report',\n",
    "                    '/get_topoutstanding_report',\n",
    "                    'N/A'\n",
    "                ]\n",
    "            }\n",
    "        },\n",
    "        \"required\": [\"function_called\"]\n",
    "    }\n",
    "\n",
    "    model = 'qwen2.5:14b'\n",
    "    \n",
    "    messages = [\n",
    "        {\"role\": \"system\", \"content\": system_prompt},\n",
    "        {\"role\": \"user\", \"content\": user_prompt}\n",
    "    ]\n",
    "\n",
    "    headers = {\"Content-Type\": \"application/json\"}\n",
    "\n",
    "    data = {\n",
    "        \"model\": model,\n",
    "        \"messages\": messages,\n",
    "        \"format\": format_schema,\n",
    "        \"stream\": False\n",
    "    }\n",
    "\n",
    "    response = requests.post(url, headers=headers, data=json.dumps(data))\n",
    "    return json.loads(response.json()['message']['content'])"
   ]
  },
  {
   "cell_type": "code",
   "execution_count": null,
   "metadata": {},
   "outputs": [],
   "source": [
    "\n",
    "# Example usage\n",
    "example_inputs = queries = [\n",
    "    \"Get me a Win Loss Detail Report yesterday\",\n",
    "    \"Get me a Turnover Detail Report on day 10\",\n",
    "    \"Net Turnover Detail Report from 1/1 to 31/1\",\n",
    "    \"Get me a Win Loss Detail Report for Direct Member who played Product Detail Sportsbook in Sportsbook Product from 01/02/2024 to 15/02/2024\",\n",
    "    \"Give me my Win Loss Detail report  last week\",\n",
    "    \"Give me a Gross Commission Report Detail report for Sportsbook from last week.\",\n",
    "    \"Give me my Win Loss Detail report  last week\",\n",
    "    \"Get me a Company Report of master1\",\n",
    "    \"Win/Loss details for Product Sportsbook\",\n",
    "    \"Get me a Win Loss on day 10\",\n",
    "    \"I want Win Loss report of Sportsbook this week\",\n",
    "    \"I want get performance of abc1 last week\",\n",
    "    \"Live Casino Master report of Master master1 yesterday\",\n",
    "    \"I need Member report of Agent agent01 last week\",\n",
    "    \"Show me today's summary\",\n",
    "    \"How did we perform in live casino last week?\",\n",
    "    \"The amount I need to pay for master abc1 last week\",\n",
    "    \"Get report of master1\",\n",
    "    \"Win/Loss details for Product Sportsbook\",\n",
    "    \"Get me a Super Report of master1\"\n",
    "]\n",
    "\n",
    "for input_text in example_inputs:\n",
    "    called_function = functional_calling(input_text)\n",
    "    print(f\"Input: {input_text}\")\n",
    "    print(f\"Called function: {called_function['function_called']}\")\n",
    "    print(\"\\n\")\n"
   ]
  },
  {
   "cell_type": "code",
   "execution_count": 2,
   "metadata": {},
   "outputs": [
    {
     "data": {
      "text/plain": [
       "{'function_called': 'N/A'}"
      ]
     },
     "execution_count": 2,
     "metadata": {},
     "output_type": "execute_result"
    }
   ],
   "source": [
    "functional_calling(\"Hello\")"
   ]
  },
  {
   "cell_type": "code",
   "execution_count": 3,
   "metadata": {},
   "outputs": [
    {
     "data": {
      "text/plain": [
       "{'function_called': 'N/A'}"
      ]
     },
     "execution_count": 3,
     "metadata": {},
     "output_type": "execute_result"
    }
   ],
   "source": [
    "functional_calling(\"I want Sportsbook only\")"
   ]
  },
  {
   "cell_type": "code",
   "execution_count": 3,
   "metadata": {},
   "outputs": [
    {
     "data": {
      "text/plain": [
       "{'function_called': '/get_topoutstanding_report'}"
      ]
     },
     "execution_count": 3,
     "metadata": {},
     "output_type": "execute_result"
    }
   ],
   "source": [
    "functional_calling(\"give me top 20 outstanding\")"
   ]
  },
  {
   "cell_type": "code",
   "execution_count": 4,
   "metadata": {},
   "outputs": [
    {
     "data": {
      "text/plain": [
       "{'function_called': '/get_outstanding_report'}"
      ]
     },
     "execution_count": 4,
     "metadata": {},
     "output_type": "execute_result"
    }
   ],
   "source": [
    "functional_calling(\"give me outstanding\")"
   ]
  },
  {
   "cell_type": "code",
   "execution_count": 5,
   "metadata": {},
   "outputs": [
    {
     "data": {
      "text/plain": [
       "{'function_called': '/get_topoutstanding_report'}"
      ]
     },
     "execution_count": 5,
     "metadata": {},
     "output_type": "execute_result"
    }
   ],
   "source": [
    "functional_calling(\"I want to get the list of leading 20 outstanding\")"
   ]
  },
  {
   "cell_type": "code",
   "execution_count": 6,
   "metadata": {},
   "outputs": [
    {
     "data": {
      "text/plain": [
       "{'function_called': '/get_topoutstanding_report'}"
      ]
     },
     "execution_count": 6,
     "metadata": {},
     "output_type": "execute_result"
    }
   ],
   "source": [
    "functional_calling(\"give me the first 20 outstanding sorting from highest to lowest\")"
   ]
  },
  {
   "cell_type": "code",
   "execution_count": 7,
   "metadata": {},
   "outputs": [
    {
     "data": {
      "text/plain": [
       "{'function_called': '/get_topoutstanding_report'}"
      ]
     },
     "execution_count": 7,
     "metadata": {},
     "output_type": "execute_result"
    }
   ],
   "source": [
    "functional_calling(\"give me the first 20 outstanding decreasing\")"
   ]
  },
  {
   "cell_type": "code",
   "execution_count": 10,
   "metadata": {},
   "outputs": [
    {
     "data": {
      "text/plain": [
       "{'function_called': '/get_turnover_report'}"
      ]
     },
     "execution_count": 10,
     "metadata": {},
     "output_type": "execute_result"
    }
   ],
   "source": [
    "functional_calling(\"I want to get turnover report\")"
   ]
  },
  {
   "cell_type": "code",
   "execution_count": 11,
   "metadata": {},
   "outputs": [
    {
     "data": {
      "text/plain": [
       "{'function_called': 'N/A'}"
      ]
     },
     "execution_count": 11,
     "metadata": {},
     "output_type": "execute_result"
    }
   ],
   "source": [
    "functional_calling(\"Do you know donald trump?\")"
   ]
  },
  {
   "cell_type": "code",
   "execution_count": 12,
   "metadata": {},
   "outputs": [
    {
     "data": {
      "text/plain": [
       "{'function_called': '/get_outstanding_report'}"
      ]
     },
     "execution_count": 12,
     "metadata": {},
     "output_type": "execute_result"
    }
   ],
   "source": [
    "functional_calling(\"How many outstanding do you have?\")"
   ]
  }
 ],
 "metadata": {
  "kernelspec": {
   "display_name": "langchain",
   "language": "python",
   "name": "python3"
  },
  "language_info": {
   "codemirror_mode": {
    "name": "ipython",
    "version": 3
   },
   "file_extension": ".py",
   "mimetype": "text/x-python",
   "name": "python",
   "nbconvert_exporter": "python",
   "pygments_lexer": "ipython3",
   "version": "3.11.11"
  }
 },
 "nbformat": 4,
 "nbformat_minor": 2
}

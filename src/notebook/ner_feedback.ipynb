{
 "cells": [
  {
   "cell_type": "code",
   "execution_count": 2,
   "metadata": {},
   "outputs": [],
   "source": [
    "from typing import Dict, Any, List\n",
    "import json\n",
    "\n",
    "def flatten_list_2d(list_2d: List[List[Any]]) -> List[Any]:\n",
    "    \"\"\"\n",
    "    Flatten a 2D list into a 1D list.\n",
    "    \n",
    "    Args:\n",
    "        list_2d (List[List[Any]]): The 2D list to flatten\n",
    "        \n",
    "    Returns:\n",
    "        List[Any]: The flattened 1D list\n",
    "    \"\"\"\n",
    "    return [item for sublist in list_2d for item in sublist]\n"
   ]
  },
  {
   "cell_type": "code",
   "execution_count": 3,
   "metadata": {},
   "outputs": [],
   "source": [
    "def load_json(path) -> Dict[str, Any]:\n",
    "    with open(path, 'r', encoding=\"utf-8\") as json_file:\n",
    "        documents = json.load(json_file)\n",
    "    return documents"
   ]
  },
  {
   "cell_type": "code",
   "execution_count": 4,
   "metadata": {},
   "outputs": [],
   "source": [
    "report_config = load_json(r\"D:\\Desktop\\arb-refactor\\data\\reports\\alpha_report.json\")"
   ]
  },
  {
   "cell_type": "code",
   "execution_count": 7,
   "metadata": {},
   "outputs": [],
   "source": [
    "def __handle_username(function_called: str, entities: Dict[str, Any]) -> Dict[str, Any]:\n",
    "    if function_called in [\"/winlost_detail\", \"/turnover\"]:\n",
    "        parameter_properties = report_config[function_called]['function']['parameters']['properties']\n",
    "        for _, value in parameter_properties.items():\n",
    "            if \"abbreviation\" in value:\n",
    "                flattened_abbreviation = flatten_list_2d(value['abbreviation'].values())\n",
    "                lower_abbreviation = [abbreviation.lower() for abbreviation in flattened_abbreviation]\n",
    "                upper_abbreviation = [abbreviation.upper() for abbreviation in flattened_abbreviation]\n",
    "                capitalized_abbreviation = [abbreviation.capitalize() for abbreviation in flattened_abbreviation]\n",
    "                combined_abbreviation = flattened_abbreviation + lower_abbreviation + upper_abbreviation + capitalized_abbreviation\n",
    "                if entities['user'] in combined_abbreviation:\n",
    "                    print('Yes')\n",
    "                    entities['user'] = \"N/A\"\n",
    "\n",
    "    return entities"
   ]
  },
  {
   "cell_type": "code",
   "execution_count": 11,
   "metadata": {},
   "outputs": [
    {
     "name": "stdout",
     "output_type": "stream",
     "text": [
      "Yes\n"
     ]
    },
    {
     "data": {
      "text/plain": [
       "{'product': 'Sportsbook', 'product_detail': 'All', 'user': 'N/A'}"
      ]
     },
     "execution_count": 11,
     "metadata": {},
     "output_type": "execute_result"
    }
   ],
   "source": [
    "__handle_username(\"/winlost_detail\", {\"product\": \"Sportsbook\", \"product_detail\": \"All\", \"user\": \"sb\"})"
   ]
  },
  {
   "cell_type": "code",
   "execution_count": null,
   "metadata": {},
   "outputs": [],
   "source": []
  }
 ],
 "metadata": {
  "kernelspec": {
   "display_name": "langchain",
   "language": "python",
   "name": "python3"
  },
  "language_info": {
   "codemirror_mode": {
    "name": "ipython",
    "version": 3
   },
   "file_extension": ".py",
   "mimetype": "text/x-python",
   "name": "python",
   "nbconvert_exporter": "python",
   "pygments_lexer": "ipython3",
   "version": "3.11.11"
  }
 },
 "nbformat": 4,
 "nbformat_minor": 2
}
